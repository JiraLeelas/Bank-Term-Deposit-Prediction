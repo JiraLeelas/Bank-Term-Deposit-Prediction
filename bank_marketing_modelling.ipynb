{
 "cells": [
  {
   "cell_type": "code",
   "execution_count": null,
   "id": "da4545ed-c307-4d87-b708-1c54a7fb7864",
   "metadata": {},
   "outputs": [],
   "source": [
    "import numpy as np\n",
    "import pandas as pd"
   ]
  },
  {
   "cell_type": "markdown",
   "id": "fca43f5b-659c-46c5-944c-88e5f108507c",
   "metadata": {},
   "source": [
    "## Bank Marketing: Encoding and Modelling"
   ]
  },
  {
   "cell_type": "markdown",
   "id": "bdb5b11c-bb67-49e2-aabb-61c2016ada64",
   "metadata": {},
   "source": [
    "### 0. Data Loading and Encoding"
   ]
  },
  {
   "cell_type": "code",
   "execution_count": null,
   "id": "f8a1f664-85b9-481e-96a5-02fb200b99a0",
   "metadata": {},
   "outputs": [],
   "source": []
  },
  {
   "cell_type": "markdown",
   "id": "d91d5a5e-768b-446c-8ad0-e34679640a38",
   "metadata": {},
   "source": [
    "### 1. Data Modelling"
   ]
  },
  {
   "cell_type": "code",
   "execution_count": null,
   "id": "95059f64-b070-4405-97f5-bbf1fc43308b",
   "metadata": {},
   "outputs": [],
   "source": []
  },
  {
   "cell_type": "markdown",
   "id": "c6030ffc-e05c-4547-aea9-33c9dc6e73c2",
   "metadata": {},
   "source": [
    "### 2. Modelling Tuning"
   ]
  },
  {
   "cell_type": "code",
   "execution_count": null,
   "id": "e4461934-0c92-4feb-8246-f536dacbcd0e",
   "metadata": {},
   "outputs": [],
   "source": []
  },
  {
   "cell_type": "markdown",
   "id": "90165f23-6854-467f-8688-5b88651f8207",
   "metadata": {},
   "source": [
    "### 3. Final Model Evaluation"
   ]
  },
  {
   "cell_type": "code",
   "execution_count": null,
   "id": "04946b82-c080-4da3-aaa4-4bbf7cff92aa",
   "metadata": {},
   "outputs": [],
   "source": []
  },
  {
   "cell_type": "markdown",
   "id": "64af7f0f-0974-473b-8f2d-cedf0b3f1534",
   "metadata": {},
   "source": [
    "### 4. Modelling Summary"
   ]
  },
  {
   "cell_type": "code",
   "execution_count": null,
   "id": "bd66bba8-6c1d-4b5a-8ee7-cd3c6e6dc6b4",
   "metadata": {},
   "outputs": [],
   "source": []
  }
 ],
 "metadata": {
  "kernelspec": {
   "display_name": "Mark_Kernel",
   "language": "python",
   "name": "mark_kernel"
  },
  "language_info": {
   "codemirror_mode": {
    "name": "ipython",
    "version": 3
   },
   "file_extension": ".py",
   "mimetype": "text/x-python",
   "name": "python",
   "nbconvert_exporter": "python",
   "pygments_lexer": "ipython3",
   "version": "3.11.9"
  }
 },
 "nbformat": 4,
 "nbformat_minor": 5
}
